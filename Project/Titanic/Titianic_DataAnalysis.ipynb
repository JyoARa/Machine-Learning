{
 "cells": [
  {
   "cell_type": "markdown",
   "id": "e1d6d490",
   "metadata": {},
   "source": [
    "## 1. 데이터 불러오기 및 기본 정보 확인"
   ]
  },
  {
   "cell_type": "markdown",
   "id": "e7faef60",
   "metadata": {},
   "source": [
    "#### 1-1. 데이터 불러오기"
   ]
  },
  {
   "cell_type": "code",
   "execution_count": 114,
   "id": "d9bbc6a3",
   "metadata": {},
   "outputs": [],
   "source": [
    "# 데이터 불러오기\n",
    "import pandas as pd\n",
    "from pathlib import Path\n",
    "\n",
    "# === CSV 경로 설정 ===\n",
    "DATA_PATH = Path(\"train.csv\")\n",
    " \n",
    "# 파일 존재 확인\n",
    "if not DATA_PATH.exists():\n",
    "    raise FileNotFoundError(f\"파일을 찾을 수 없습니다: {DATA_PATH.resolve()}\")\n",
    "\n",
    "# 읽어오기\n",
    "df = pd.read_csv(DATA_PATH)"
   ]
  },
  {
   "cell_type": "markdown",
   "id": "c27cada8",
   "metadata": {},
   "source": [
    "---\n",
    "\n",
    "#### 1-2. 데이터 구조 확인"
   ]
  },
  {
   "cell_type": "markdown",
   "id": "9d591658",
   "metadata": {},
   "source": [
    "shape 속성을 이용하면 데이터프레임의 행(row)과 열(column) 개수를 확인할 수 있다."
   ]
  },
  {
   "cell_type": "code",
   "execution_count": 115,
   "id": "502e660f",
   "metadata": {},
   "outputs": [
    {
     "name": "stdout",
     "output_type": "stream",
     "text": [
      "- shape : (891, 12)\n"
     ]
    }
   ],
   "source": [
    "print(\"- shape :\", df.shape)                 "
   ]
  },
  {
   "cell_type": "markdown",
   "id": "6fd33fe1",
   "metadata": {},
   "source": [
    "info() 메서드를 이용하면 데이터프레임의 전체 구조를 요약 확인할 수 있다. (행 개수, 컬럼 이름, 데이터 타입, 결측치 개수, 메모리 사용량 등)"
   ]
  },
  {
   "cell_type": "code",
   "execution_count": 116,
   "id": "49c919cd",
   "metadata": {},
   "outputs": [
    {
     "name": "stdout",
     "output_type": "stream",
     "text": [
      "<class 'pandas.core.frame.DataFrame'>\n",
      "RangeIndex: 891 entries, 0 to 890\n",
      "Data columns (total 12 columns):\n",
      " #   Column       Non-Null Count  Dtype  \n",
      "---  ------       --------------  -----  \n",
      " 0   PassengerId  891 non-null    int64  \n",
      " 1   Survived     891 non-null    int64  \n",
      " 2   Pclass       891 non-null    int64  \n",
      " 3   Name         891 non-null    object \n",
      " 4   Sex          891 non-null    object \n",
      " 5   Age          714 non-null    float64\n",
      " 6   SibSp        891 non-null    int64  \n",
      " 7   Parch        891 non-null    int64  \n",
      " 8   Ticket       891 non-null    object \n",
      " 9   Fare         891 non-null    float64\n",
      " 10  Cabin        204 non-null    object \n",
      " 11  Embarked     889 non-null    object \n",
      "dtypes: float64(2), int64(5), object(5)\n",
      "memory usage: 83.7+ KB\n"
     ]
    }
   ],
   "source": [
    "df.info()   "
   ]
  },
  {
   "cell_type": "markdown",
   "id": "0eefca16",
   "metadata": {},
   "source": [
    "이 데이터셋은 891행 12열로 구성되어 있으며, 정수형 5개, 실수형 2개, 문자형 5개의 컬럼을 포함하고 있다.  \n",
    "Age, Cabin, Embarked 열에는 결측치가 존재하며, 나머지 열은 모두 값이 채워져 있다. 전체 데이터 크기는 약 83.7KB로 작은 편이다."
   ]
  },
  {
   "cell_type": "markdown",
   "id": "b15a8409",
   "metadata": {},
   "source": [
    "---\n",
    "\n",
    "#### 1-3. 데이터 요약 통계 확인\n",
    "\n",
    "describe() 메서드는 기본적으로 수치형 컬럼에 대한 요약 통계를 제공하며, include='object' 옵션을 주면 범주형(object) 컬럼에 대한 통계도 확인할 수 있다."
   ]
  },
  {
   "cell_type": "code",
   "execution_count": 117,
   "id": "9bc2f9d5",
   "metadata": {},
   "outputs": [
    {
     "data": {
      "text/html": [
       "<div>\n",
       "<style scoped>\n",
       "    .dataframe tbody tr th:only-of-type {\n",
       "        vertical-align: middle;\n",
       "    }\n",
       "\n",
       "    .dataframe tbody tr th {\n",
       "        vertical-align: top;\n",
       "    }\n",
       "\n",
       "    .dataframe thead th {\n",
       "        text-align: right;\n",
       "    }\n",
       "</style>\n",
       "<table border=\"1\" class=\"dataframe\">\n",
       "  <thead>\n",
       "    <tr style=\"text-align: right;\">\n",
       "      <th></th>\n",
       "      <th>PassengerId</th>\n",
       "      <th>Survived</th>\n",
       "      <th>Pclass</th>\n",
       "      <th>Age</th>\n",
       "      <th>SibSp</th>\n",
       "      <th>Parch</th>\n",
       "      <th>Fare</th>\n",
       "    </tr>\n",
       "  </thead>\n",
       "  <tbody>\n",
       "    <tr>\n",
       "      <th>count</th>\n",
       "      <td>891.000000</td>\n",
       "      <td>891.000000</td>\n",
       "      <td>891.000000</td>\n",
       "      <td>714.000000</td>\n",
       "      <td>891.000000</td>\n",
       "      <td>891.000000</td>\n",
       "      <td>891.000000</td>\n",
       "    </tr>\n",
       "    <tr>\n",
       "      <th>mean</th>\n",
       "      <td>446.000000</td>\n",
       "      <td>0.383838</td>\n",
       "      <td>2.308642</td>\n",
       "      <td>29.699118</td>\n",
       "      <td>0.523008</td>\n",
       "      <td>0.381594</td>\n",
       "      <td>32.204208</td>\n",
       "    </tr>\n",
       "    <tr>\n",
       "      <th>std</th>\n",
       "      <td>257.353842</td>\n",
       "      <td>0.486592</td>\n",
       "      <td>0.836071</td>\n",
       "      <td>14.526497</td>\n",
       "      <td>1.102743</td>\n",
       "      <td>0.806057</td>\n",
       "      <td>49.693429</td>\n",
       "    </tr>\n",
       "    <tr>\n",
       "      <th>min</th>\n",
       "      <td>1.000000</td>\n",
       "      <td>0.000000</td>\n",
       "      <td>1.000000</td>\n",
       "      <td>0.420000</td>\n",
       "      <td>0.000000</td>\n",
       "      <td>0.000000</td>\n",
       "      <td>0.000000</td>\n",
       "    </tr>\n",
       "    <tr>\n",
       "      <th>25%</th>\n",
       "      <td>223.500000</td>\n",
       "      <td>0.000000</td>\n",
       "      <td>2.000000</td>\n",
       "      <td>20.125000</td>\n",
       "      <td>0.000000</td>\n",
       "      <td>0.000000</td>\n",
       "      <td>7.910400</td>\n",
       "    </tr>\n",
       "    <tr>\n",
       "      <th>50%</th>\n",
       "      <td>446.000000</td>\n",
       "      <td>0.000000</td>\n",
       "      <td>3.000000</td>\n",
       "      <td>28.000000</td>\n",
       "      <td>0.000000</td>\n",
       "      <td>0.000000</td>\n",
       "      <td>14.454200</td>\n",
       "    </tr>\n",
       "    <tr>\n",
       "      <th>75%</th>\n",
       "      <td>668.500000</td>\n",
       "      <td>1.000000</td>\n",
       "      <td>3.000000</td>\n",
       "      <td>38.000000</td>\n",
       "      <td>1.000000</td>\n",
       "      <td>0.000000</td>\n",
       "      <td>31.000000</td>\n",
       "    </tr>\n",
       "    <tr>\n",
       "      <th>max</th>\n",
       "      <td>891.000000</td>\n",
       "      <td>1.000000</td>\n",
       "      <td>3.000000</td>\n",
       "      <td>80.000000</td>\n",
       "      <td>8.000000</td>\n",
       "      <td>6.000000</td>\n",
       "      <td>512.329200</td>\n",
       "    </tr>\n",
       "  </tbody>\n",
       "</table>\n",
       "</div>"
      ],
      "text/plain": [
       "       PassengerId    Survived      Pclass         Age       SibSp  \\\n",
       "count   891.000000  891.000000  891.000000  714.000000  891.000000   \n",
       "mean    446.000000    0.383838    2.308642   29.699118    0.523008   \n",
       "std     257.353842    0.486592    0.836071   14.526497    1.102743   \n",
       "min       1.000000    0.000000    1.000000    0.420000    0.000000   \n",
       "25%     223.500000    0.000000    2.000000   20.125000    0.000000   \n",
       "50%     446.000000    0.000000    3.000000   28.000000    0.000000   \n",
       "75%     668.500000    1.000000    3.000000   38.000000    1.000000   \n",
       "max     891.000000    1.000000    3.000000   80.000000    8.000000   \n",
       "\n",
       "            Parch        Fare  \n",
       "count  891.000000  891.000000  \n",
       "mean     0.381594   32.204208  \n",
       "std      0.806057   49.693429  \n",
       "min      0.000000    0.000000  \n",
       "25%      0.000000    7.910400  \n",
       "50%      0.000000   14.454200  \n",
       "75%      0.000000   31.000000  \n",
       "max      6.000000  512.329200  "
      ]
     },
     "execution_count": 117,
     "metadata": {},
     "output_type": "execute_result"
    }
   ],
   "source": [
    "df.describe()"
   ]
  },
  {
   "cell_type": "code",
   "execution_count": 118,
   "id": "7526c869",
   "metadata": {},
   "outputs": [
    {
     "data": {
      "text/html": [
       "<div>\n",
       "<style scoped>\n",
       "    .dataframe tbody tr th:only-of-type {\n",
       "        vertical-align: middle;\n",
       "    }\n",
       "\n",
       "    .dataframe tbody tr th {\n",
       "        vertical-align: top;\n",
       "    }\n",
       "\n",
       "    .dataframe thead th {\n",
       "        text-align: right;\n",
       "    }\n",
       "</style>\n",
       "<table border=\"1\" class=\"dataframe\">\n",
       "  <thead>\n",
       "    <tr style=\"text-align: right;\">\n",
       "      <th></th>\n",
       "      <th>Name</th>\n",
       "      <th>Sex</th>\n",
       "      <th>Ticket</th>\n",
       "      <th>Cabin</th>\n",
       "      <th>Embarked</th>\n",
       "    </tr>\n",
       "  </thead>\n",
       "  <tbody>\n",
       "    <tr>\n",
       "      <th>count</th>\n",
       "      <td>891</td>\n",
       "      <td>891</td>\n",
       "      <td>891</td>\n",
       "      <td>204</td>\n",
       "      <td>889</td>\n",
       "    </tr>\n",
       "    <tr>\n",
       "      <th>unique</th>\n",
       "      <td>891</td>\n",
       "      <td>2</td>\n",
       "      <td>681</td>\n",
       "      <td>147</td>\n",
       "      <td>3</td>\n",
       "    </tr>\n",
       "    <tr>\n",
       "      <th>top</th>\n",
       "      <td>Braund, Mr. Owen Harris</td>\n",
       "      <td>male</td>\n",
       "      <td>347082</td>\n",
       "      <td>G6</td>\n",
       "      <td>S</td>\n",
       "    </tr>\n",
       "    <tr>\n",
       "      <th>freq</th>\n",
       "      <td>1</td>\n",
       "      <td>577</td>\n",
       "      <td>7</td>\n",
       "      <td>4</td>\n",
       "      <td>644</td>\n",
       "    </tr>\n",
       "  </tbody>\n",
       "</table>\n",
       "</div>"
      ],
      "text/plain": [
       "                           Name   Sex  Ticket Cabin Embarked\n",
       "count                       891   891     891   204      889\n",
       "unique                      891     2     681   147        3\n",
       "top     Braund, Mr. Owen Harris  male  347082    G6        S\n",
       "freq                          1   577       7     4      644"
      ]
     },
     "execution_count": 118,
     "metadata": {},
     "output_type": "execute_result"
    }
   ],
   "source": [
    "df.describe(include='object')"
   ]
  },
  {
   "cell_type": "markdown",
   "id": "1eebdfa9",
   "metadata": {},
   "source": [
    "아래 코드는 select_dtypes() 메서드를 이용해 데이터 타입(dtype) 에 따라 컬럼을 자동 분리한다."
   ]
  },
  {
   "cell_type": "code",
   "execution_count": 119,
   "id": "12fcb6d2",
   "metadata": {},
   "outputs": [
    {
     "name": "stdout",
     "output_type": "stream",
     "text": [
      "수치형 컬럼 : ['PassengerId', 'Survived', 'Pclass', 'Age', 'SibSp', 'Parch', 'Fare']\n",
      "범주형 컬럼 : ['Name', 'Sex', 'Ticket', 'Cabin', 'Embarked']\n"
     ]
    }
   ],
   "source": [
    "import numpy as np\n",
    "\n",
    "# 숫자/범주형 컬럼 자동 분리\n",
    "num_cols = df.select_dtypes(include=[np.number]).columns.tolist()\n",
    "cat_cols = df.select_dtypes(exclude=[np.number]).columns.tolist()\n",
    "\n",
    "print(\"수치형 컬럼 :\", num_cols)\n",
    "print(\"범주형 컬럼 :\", cat_cols)"
   ]
  },
  {
   "cell_type": "markdown",
   "id": "371bc807",
   "metadata": {},
   "source": [
    "``df[num_cols].describe()`` = ``df.describe()``  \n",
    "\n",
    "``df[cat_cols].describe()`` = ``df.describe(include='object')``\n",
    "\n",
    "describe()는 컬럼의 자료형에 따라 요약 통계를 다르게 보여주며, 옵션으로 타입 조건을 지정할 수도 있다.  \n",
    "``df[num_cols].describe()``는 수치형 컬럼만 선택해서 통계를 내므로 ``df.describe()``와 동일한 결과를,  \n",
    "``df[cat_cols].describe()``는 범주형 컬럼만 선택해서 통계를 내므로 ``df.describe(include='object')``와 동일한 결과를 반환한다."
   ]
  },
  {
   "cell_type": "code",
   "execution_count": 120,
   "id": "c4dbdc1b",
   "metadata": {},
   "outputs": [],
   "source": [
    "# 결과를 보려면 아래 코드 주석 지우고 실행\n",
    "# df[num_cols].describe()"
   ]
  },
  {
   "cell_type": "code",
   "execution_count": 121,
   "id": "3ebe31b3",
   "metadata": {},
   "outputs": [],
   "source": [
    "# 결과를 보려면 아래 코드 주석 지우고 실행\n",
    "# df[cat_cols].describe()"
   ]
  },
  {
   "cell_type": "markdown",
   "id": "5915d940",
   "metadata": {},
   "source": [
    "---\n",
    "\n",
    "## 2. 데이터 이해"
   ]
  },
  {
   "cell_type": "markdown",
   "id": "4d2d5605",
   "metadata": {},
   "source": [
    "#### 2-1. 컬럼별 의미 설명"
   ]
  },
  {
   "cell_type": "markdown",
   "id": "70e248c6",
   "metadata": {},
   "source": [
    "다음은 데이터프레임의 전체 컬럼 이름을 리스트로 출력하는 코드이다."
   ]
  },
  {
   "cell_type": "code",
   "execution_count": 122,
   "id": "93456fe4",
   "metadata": {},
   "outputs": [
    {
     "name": "stdout",
     "output_type": "stream",
     "text": [
      "columns : ['PassengerId', 'Survived', 'Pclass', 'Name', 'Sex', 'Age', 'SibSp', 'Parch', 'Ticket', 'Fare', 'Cabin', 'Embarked']\n"
     ]
    }
   ],
   "source": [
    "print(\"columns :\", df.columns.tolist())    "
   ]
  },
  {
   "cell_type": "markdown",
   "id": "21236a30",
   "metadata": {},
   "source": [
    "| 컬럼명             | 설명                                                           |\n",
    "| --------------- | ------------------------------------------------------------ |\n",
    "| **PassengerId** | 승객 고유 ID (단순 번호, 분석에는 크게 의미 없음)                              |\n",
    "| **Survived**    | 생존 여부 (타깃 변수) → `0 = 사망`, `1 = 생존`                           |\n",
    "| **Pclass**      | 선실 등급 (사회적/경제적 지위 지표) → `1 = 1등석`, `2 = 2등석`, `3 = 3등석`      |\n",
    "| **Name**        | 승객 이름 (이름, 성, 호칭(title) 포함. Feature Engineering에서 활용 가능)     |\n",
    "| **Sex**         | 성별 (`male`, `female`)                                        |\n",
    "| **Age**         | 나이 (일부 결측치 존재)                                               |\n",
    "| **SibSp**       | 함께 탑승한 형제/자매(sibling) + 배우자(spouse) 수                        |\n",
    "| **Parch**       | 함께 탑승한 부모(parent) + 자녀(children) 수                           |\n",
    "| **Ticket**      | 티켓 번호 (패턴 추출 가능하나 일반적으로는 크게 사용하지 않음)                         |\n",
    "| **Fare**        | 운임 요금 (탑승 등급/선실 위치와 관련)                                      |\n",
    "| **Cabin**       | 선실 번호 (결측치 많음. 선실의 앞 글자 = 구역 정보로 활용 가능)                      |\n",
    "| **Embarked**    | 탑승 항구 → `C = Cherbourg`, `Q = Queenstown`, `S = Southampton` |"
   ]
  },
  {
   "cell_type": "markdown",
   "id": "79fdbfba",
   "metadata": {},
   "source": [
    "---\n",
    "#### 2-2 결측치 확인"
   ]
  },
  {
   "cell_type": "markdown",
   "id": "27e8242a",
   "metadata": {},
   "source": [
    "데이터프레임의 각 컬럼별 결측치 개수(missing_num)와 결측치 비율(missing_pct)을 계산해, 결측치가 많은 순서대로 정리하는 코드"
   ]
  },
  {
   "cell_type": "code",
   "execution_count": 123,
   "id": "3dc646ac",
   "metadata": {},
   "outputs": [
    {
     "name": "stdout",
     "output_type": "stream",
     "text": [
      "[결측치 요약]\n",
      "             missing_num  missing_pct\n",
      "Cabin                687        77.10\n",
      "Age                  177        19.87\n",
      "Embarked               2         0.22\n",
      "PassengerId            0         0.00\n",
      "Name                   0         0.00\n",
      "Pclass                 0         0.00\n",
      "Survived               0         0.00\n",
      "Sex                    0         0.00\n",
      "Parch                  0         0.00\n",
      "SibSp                  0         0.00\n",
      "Fare                   0         0.00\n",
      "Ticket                 0         0.00\n"
     ]
    }
   ],
   "source": [
    "print(\"[결측치 요약]\")\n",
    "\n",
    "# 각 컬럼별 결측치 개수를 구하고 정리\n",
    "missing = (\n",
    "    df.isna()                               # 각 셀마다 결측치면 True, 아니면 False 반환\n",
    "      .sum()                                # 컬럼별로 True 개수 합산 → 컬럼별 결측치 개수\n",
    "      .rename(\"missing_num\")                # 결과 Series 이름을 \"missing_num\"으로 바꿔줌\n",
    "      .to_frame()                           # Series → DataFrame으로 변환 (컬럼명 : missing_num)\n",
    ")\n",
    "\n",
    "# 결측치 비율(%) 컬럼 추가\n",
    "missing[\"missing_pct\"] = (missing[\"missing_num\"] / len(df) * 100).round(2)  # 전체 행 개수 대비 결측치 비율 계산 (소수 둘째자리 반올림)\n",
    "\n",
    "# 결측치 개수가 많은 순으로 정렬해서 출력\n",
    "print(missing.sort_values(\"missing_num\", ascending=False))  # missing_num 기준 내림차순 정렬 후 출력"
   ]
  },
  {
   "cell_type": "markdown",
   "id": "f0ba0453",
   "metadata": {},
   "source": [
    "Cabin : 결측치 687건 (77.1%) → 데이터의 3/4 이상 비어 있음 → 그대로 쓰기 어렵고, 보통 “결측 처리/특정 정보만 추출(앞 글자)”로 활용\n",
    "\n",
    "Age : 결측치 177건 (19.9%) → 약 20% 비어 있음 → 평균/중앙값 대체 or 모델 기반 보간 필요\n",
    "\n",
    "Embarked : 결측치 2건 (0.22%) → 거의 없음 → 최빈값 등으로 쉽게 대체 가능\n",
    "\n",
    "나머지 컬럼 : 결측치 없음"
   ]
  },
  {
   "cell_type": "markdown",
   "id": "333b4009",
   "metadata": {},
   "source": [
    "---\n",
    "\n",
    "#### 2-3 중복 데이터 여부 확인"
   ]
  },
  {
   "cell_type": "code",
   "execution_count": 124,
   "id": "67a3559d",
   "metadata": {},
   "outputs": [
    {
     "name": "stdout",
     "output_type": "stream",
     "text": [
      "[중복 확인]\n",
      "전체 중복 행 수 : 0\n",
      "\n",
      "[PassengerId 제외한 중복 확인]\n",
      "PassengerId 제외 시 중복 행 수 : 0\n",
      "\n",
      "[티켓번호 + 이름 중복 확인]\n",
      "Ticket + Name이 동시에 중복된 행 수 : 0\n"
     ]
    }
   ],
   "source": [
    "print(\"[중복 확인]\")\n",
    "\n",
    "# 전체 데이터에서 완전히 같은 행(모든 컬럼 값이 동일)의 개수를 확인\n",
    "dup_rows = df.duplicated().sum()\n",
    "print(f\"전체 중복 행 수 : {dup_rows}\")\n",
    "\n",
    "print(\"\\n[PassengerId 제외한 중복 확인]\")\n",
    "\n",
    "if \"PassengerId\" in df.columns:\n",
    "    # PassengerId 컬럼을 제외하고 중복 확인\n",
    "    dup_except_id = df.drop(columns=[\"PassengerId\"]).duplicated().sum()\n",
    "    print(f\"PassengerId 제외 시 중복 행 수 : {dup_except_id}\")\n",
    "\n",
    "    if dup_except_id > 0:\n",
    "        print(\"\\n[중복된 데이터 샘플]\")\n",
    "        print(df.drop(columns=[\"PassengerId\"])[df.drop(columns=[\"PassengerId\"]).duplicated(keep=False)].head())\n",
    "\n",
    "print(\"\\n[티켓번호 + 이름 중복 확인]\")\n",
    "\n",
    "# Ticket과 Name 컬럼이 모두 존재할 경우에만 실행\n",
    "if set([\"Ticket\", \"Name\"]).issubset(df.columns):\n",
    "    # Ticket + Name 조합이 중복된 행 개수 계산\n",
    "    dup_ticket_name = df.duplicated(subset=[\"Ticket\", \"Name\"]).sum()\n",
    "    print(f\"Ticket + Name이 동시에 중복된 행 수 : {dup_ticket_name}\")\n",
    "\n",
    "    # 중복된 데이터가 실제로 있다면 샘플로 몇 개 출력\n",
    "    if dup_ticket_name > 0:\n",
    "        print(\"\\n[중복된 데이터 샘플]\")\n",
    "        # keep=False → 중복된 행 전체를 표시 (첫 번째만 제외하지 않음)\n",
    "        print(df[df.duplicated(subset=[\"Ticket\", \"Name\"], keep=False)].head())"
   ]
  },
  {
   "cell_type": "markdown",
   "id": "678c1b2d",
   "metadata": {},
   "source": [
    "본 데이터셋에는 단순히 순번을 매긴 `PassengerId` 컬럼이 존재하므로, 모든 컬럼이 완전히 동일한 중복 행은 나타날 수 없다.  \n",
    "따라서 본 프로젝트에서는 `PassengerId`를 제외한 나머지 컬럼을 기준으로 중복 여부를 확인하였다.  \n",
    "또한, `Ticket`과 `Name`이 동시에 중복되는 경우 동일 인물일 가능성이 있어 추가로 확인했으나, 해당 사례는 존재하지 않는 것으로 확인되었다."
   ]
  },
  {
   "cell_type": "markdown",
   "id": "75a45974",
   "metadata": {},
   "source": [
    "---\n",
    "\n",
    "## 3. 데이터 분포 확인 "
   ]
  },
  {
   "cell_type": "markdown",
   "id": "c75404cb",
   "metadata": {},
   "source": [
    "#### 3-1. 타깃 데이터 분포"
   ]
  },
  {
   "cell_type": "code",
   "execution_count": null,
   "id": "c1667ab6",
   "metadata": {},
   "outputs": [
    {
     "name": "stdout",
     "output_type": "stream",
     "text": [
      "[타깃 분포]\n",
      "Survived\n",
      "0    549\n",
      "1    342\n",
      "Name: count, dtype: int64\n",
      "\n",
      "[타깃 분포 비율]\n",
      "Survived\n",
      "0    0.616\n",
      "1    0.384\n",
      "Name: proportion, dtype: float64\n"
     ]
    }
   ],
   "source": [
    "print(\"[타깃 분포]\")\n",
    "\n",
    "# 타깃 컬럼이 데이터에 존재할 때만 실행\n",
    "if \"Survived\" in df.columns:\n",
    "    # 각 클래스(0: 사망, 1: 생존)의 개수 세기\n",
    "    # dropna=False → 결측치(NaN)가 있으면 그것도 개수에 포함 (데이터 품질 점검을 위해)\n",
    "    print(df[\"Survived\"].value_counts(dropna=False))\n",
    "\n",
    "    print(\"\\n[타깃 분포 비율]\")\n",
    "    # 각 클래스의 상대적 비율 계산\n",
    "    # normalize=True → 전체 대비 비율 반환 (합계 = 1)\n",
    "    # round(3) → 소수점 셋째 자리까지 반올림\n",
    "    print(df[\"Survived\"].value_counts(normalize=True).round(3))"
   ]
  },
  {
   "cell_type": "code",
   "execution_count": 133,
   "id": "4928f01d",
   "metadata": {},
   "outputs": [
    {
     "name": "stdout",
     "output_type": "stream",
     "text": [
      "[타깃 분포 시각화]\n"
     ]
    },
    {
     "data": {
      "image/png": "[encoded data removed]",
      "text/plain": [
       "<Figure size 900x400 with 2 Axes>"
      ]
     },
     "metadata": {},
     "output_type": "display_data"
    }
   ],
   "source": [
    "import matplotlib.pyplot as plt\n",
    "\n",
    "print(\"[타깃 분포 시각화]\")\n",
    "\n",
    "if \"Survived\" in df.columns:\n",
    "    counts = df[\"Survived\"].value_counts().sort_index()             # 클래스 개수 (0, 1 순서 정렬)\n",
    "    ratios = df[\"Survived\"].value_counts(normalize=True).sort_index()  # 클래스 비율\n",
    "\n",
    "    # subplot 생성 (1행 2열)\n",
    "    fig, axes = plt.subplots(1, 2, figsize=(9, 4))\n",
    "\n",
    "    # --- (1) 막대그래프 (개수) ---\n",
    "    colors = [\"skyblue\", \"salmon\"]  # 클래스별 색상 통일\n",
    "    bars = axes[0].bar(counts.index.astype(str), counts.values, color=colors, edgecolor=\"black\")\n",
    "    axes[0].set_title(\"Survived Distribution (Count)\")\n",
    "    axes[0].set_xlabel(\"Survived\")\n",
    "    axes[0].set_ylabel(\"Count\")\n",
    "\n",
    "    # 막대 위에 숫자 표시\n",
    "    for bar in bars:\n",
    "        height = bar.get_height()\n",
    "        axes[0].text(bar.get_x() + bar.get_width()/2, height + 5, str(height),\n",
    "                     ha=\"center\", va=\"bottom\", fontsize=10, fontweight=\"bold\")\n",
    "\n",
    "    # --- (2) 파이차트 (비율) ---\n",
    "    axes[1].pie(\n",
    "        ratios.values,\n",
    "        labels=[\"Dead (0)\", \"Survived (1)\"],\n",
    "        autopct=\"%.1f%%\",           # 퍼센트 표시\n",
    "        colors=colors,              # 막대그래프와 동일 색상\n",
    "        startangle=90,\n",
    "        counterclock=False\n",
    "    )\n",
    "    axes[1].set_title(\"Survived Distribution (Ratio)\")\n",
    "\n",
    "    plt.tight_layout()\n",
    "    plt.show()\n"
   ]
  },
  {
   "cell_type": "markdown",
   "id": "29334728",
   "metadata": {},
   "source": [
    "분석 결과, 타이타닉 승객의 약 62%가 사망했고 38%가 생존했으며, 데이터는 다소 불균형하지만 심각한 수준은 아니다."
   ]
  },
  {
   "cell_type": "markdown",
   "id": "9858ae62",
   "metadata": {},
   "source": [
    "---\n",
    "\n",
    "#### 3-2. "
   ]
  },
  {
   "cell_type": "code",
   "execution_count": null,
   "id": "d376d937",
   "metadata": {},
   "outputs": [],
   "source": []
  }
 ],
 "metadata": {
  "kernelspec": {
   "display_name": "Python 3",
   "language": "python",
   "name": "python3"
  },
  "language_info": {
   "codemirror_mode": {
    "name": "ipython",
    "version": 3
   },
   "file_extension": ".py",
   "mimetype": "text/x-python",
   "name": "python",
   "nbconvert_exporter": "python",
   "pygments_lexer": "ipython3",
   "version": "3.12.1"
  }
 },
 "nbformat": 4,
 "nbformat_minor": 5
}
