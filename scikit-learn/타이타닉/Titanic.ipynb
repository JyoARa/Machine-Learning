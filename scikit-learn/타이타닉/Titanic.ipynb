{
 "cells": [
  {
   "cell_type": "markdown",
   "id": "235b1723",
   "metadata": {},
   "source": [
    "## 1. 데이터 불러와 살펴보기"
   ]
  },
  {
   "cell_type": "code",
   "execution_count": 4,
   "id": "5a705167",
   "metadata": {},
   "outputs": [],
   "source": [
    "import pandas as pd\n",
    "\n",
    "# 데이터 불러오기\n",
    "file_path = \"titanic_train.csv\"  # 현재 경로에 있다고 가정\n",
    "titanic_df = pd.read_csv(file_path)\n",
    "\n",
    "# pd.read_csv : pandas가 CSV 파일을 읽어 DataFrame으로 만들어 주는 함수"
   ]
  },
  {
   "cell_type": "code",
   "execution_count": 5,
   "id": "a27f2c94",
   "metadata": {},
   "outputs": [
    {
     "name": "stdout",
     "output_type": "stream",
     "text": [
      "데이터 크기: (891, 12)\n",
      "컬럼명: ['PassengerId', 'Survived', 'Pclass', 'Name', 'Sex', 'Age', 'SibSp', 'Parch', 'Ticket', 'Fare', 'Cabin', 'Embarked']\n"
     ]
    }
   ],
   "source": [
    "# 데이터 크기와 컬럼 확인\n",
    "print(\"데이터 크기:\", titanic_df.shape)\n",
    "print(\"컬럼명:\", titanic_df.columns.tolist())"
   ]
  }
 ],
 "metadata": {
  "kernelspec": {
   "display_name": "Python 3",
   "language": "python",
   "name": "python3"
  },
  "language_info": {
   "codemirror_mode": {
    "name": "ipython",
    "version": 3
   },
   "file_extension": ".py",
   "mimetype": "text/x-python",
   "name": "python",
   "nbconvert_exporter": "python",
   "pygments_lexer": "ipython3",
   "version": "3.12.1"
  }
 },
 "nbformat": 4,
 "nbformat_minor": 5
}
