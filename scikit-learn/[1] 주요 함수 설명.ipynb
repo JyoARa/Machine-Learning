{
 "cells": [
  {
   "cell_type": "markdown",
   "id": "469e9888",
   "metadata": {},
   "source": [
    "<h2>💫 ML Pipeline 1-1. <span style=\"background-color: rgba(255, 220, 82, 0.5);\">데이터 준비</span></h2>\n",
    "\n",
    "- 머신러닝 모델의 학습 재료가 되는 데이터를 가져오는 과정입니다.<br>사이킷런은 학습용으로 다양한 예제 데이터를 제공하며, 실제 프로젝트에서는 외부 파일을 불러와 사용합니다.\n",
    "\n",
    "<hr style=\"border: none; border-top: 1px solid #ccc;\">"
   ]
  },
  {
   "cell_type": "markdown",
   "id": "4714d602",
   "metadata": {},
   "source": [
    "<h3>1️⃣ <span style=\"background-color: rgba(255, 220, 82, 0.2);\">사이킷런 내장 예제 데이터 사용하기</span></h3>\n",
    "\n",
    "- 사이킷런은 머신러닝을 쉽게 연습할 수 있도록 패키지 안에 다양한 종류의 데이터를 포함하고 있습니다. 이 데이터들은 별도의 외부 파일 없이 간단한 함수 호출만으로 불러올 수 있습니다.\n",
    "\n",
    "<hr style=\"border: none; border-top: 1px solid #ccc;\">"
   ]
  },
  {
   "cell_type": "markdown",
   "id": "6597625c",
   "metadata": {},
   "source": [
    "#### 📍주요 API"
   ]
  },
  {
   "cell_type": "markdown",
   "id": "e1170f10",
   "metadata": {},
   "source": [
    "#### ✨ load_* : 사이킷런 패키지에 포함된 작은 데이터셋\n",
    "\n",
    "| 함수명 | 설명 |\n",
    "| :--- | :--- |\n",
    "| `datasets.load_iris()` | 붓꽃의 피처를 가진 데이터로, 품종을 분류하는 데 사용됩니다. (분류용) |\n",
    "| `datasets.load_breast_cancer()` | 위스콘신 유방암 피처와 악성/음성 레이블 데이터입니다. (분류용) |\n",
    "| `datasets.load_digits()` | 0에서 9까지의 숫자 이미지 픽셀 데이터입니다. (분류용) |\n",
    "| `datasets.load_wine()` | 와인의 화학 성분 분석 데이터로, 와인 종류를 분류합니다. (분류용) |\n",
    "| `datasets.load_boston()` | 미국 보스턴의 집 피처와 가격에 대한 데이터입니다. (회귀용) |\n",
    "| `datasets.load_diabetes()` | 당뇨병 데이터입니다. (회귀용) |\n",
    "| `datasets.load_linnerud()` | 운동선수의 생리학적 데이터와 운동 능력 데이터입니다. (다중 출력 회귀용) |"
   ]
  },
  {
   "cell_type": "markdown",
   "id": "9bd2cc63",
   "metadata": {},
   "source": [
    "#### ✨ fetch_* : 인터넷에서 내려받아 사용하는 큰 데이터셋\n",
    "\n",
    "| 함수명 | 설명 |\n",
    "| :--- | :--- |\n",
    "| `datasets.fetch_california_housing()` | 캘리포니아 주택 가격 데이터로, `load_boston`을 대체하는 표준 회귀 데이터셋입니다. |\n",
    "| `datasets.fetch_covtype()` | 회귀분석용 토지조사 자료입니다. |\n",
    "| `datasets.fetch_20newsgroups()` | 뉴스그룹 텍스트 자료입니다. |\n",
    "| `datasets.fetch_rcv1()` | 로이터 뉴스 말뭉치입니다. |\n",
    "| `datasets.fetch_olivetti_faces()` | 얼굴 이미지 자료입니다. |\n",
    "| `datasets.fetch_lfw_people()` | '야생의 얼굴' 데이터셋으로, `olivetti_faces`보다 더 어려운 얼굴 인식 문제입니다. |\n",
    "| `datasets.fetch_kddcup99()` | KDD Cup '99 데이터로, 네트워크 침입 탐지(분류)에 사용됩니다. |\n",
    "| `datasets.fetch_openml()` | OpenML.org 리포지토리에서 수많은 데이터셋을 이름으로 직접 다운로드합니다. (범용) |"
   ]
  },
  {
   "cell_type": "markdown",
   "id": "498fec61",
   "metadata": {},
   "source": [
    "#### ✨ make_* : 특정 목적의 가상 데이터를 직접 생성\n",
    "\n",
    "| 함수명 | 설명 |\n",
    "| :--- | :--- |\n",
    "| `datasets.make_classifications()` | 분류(Classification)를 위한 가상 데이터 세트를 무작위로 생성합니다. |\n",
    "| `datasets.make_regression()` | 회귀(Regression)를 위한 가상 데이터 세트를 무작위로 생성합니다. |\n",
    "| `datasets.make_blobs()` | 군집화(Clustering)를 위한 가상 데이터 세트(덩어리)를 생성합니다. |\n",
    "| `datasets.make_moons()` | 초승달 모양으로 분포된 데이터를 생성하여, 비선형 분류/군집 테스트에 사용됩니다. |\n",
    "| `datasets.make_circles()` | 동심원 모양으로 분포된 데이터를 생성하며, 비선형 문제 테스트에 유용합니다. |\n",
    "| `datasets.make_swiss_roll()` | 3차원 스위스 롤 형태의 데이터를 생성하여, 매니폴드 학습 테스트에 사용됩니다. |"
   ]
  },
  {
   "cell_type": "markdown",
   "id": "71f1cff4",
   "metadata": {},
   "source": [
    "<hr style=\"border: none; border-top: 1px solid #ccc;\">"
   ]
  },
  {
   "cell_type": "markdown",
   "id": "1117fb98",
   "metadata": {},
   "source": [
    "#### 📍사이킷런 내장 데이터 구조"
   ]
  },
  {
   "cell_type": "markdown",
   "id": "ebf0bf1b",
   "metadata": {},
   "source": [
    "| 키 (Key) | 내용 (Content) | 자료형 (Data Type) |\n",
    "| :--- | :--- | :--- |\n",
    "| `data` | 특성 데이터 배열 (문제지). 각 행은 샘플, 각 열은 특성을 나타냅니다. (형태 : n_samples x n_features) | NumPy `ndarray` |\n",
    "| `target` | 레이블 데이터 배열 (정답지). 각 샘플에 대한 정답 값입니다. (형태 : n_samples,) | NumPy `ndarray` |\n",
    "| `feature_names` | 특성들의 이름 목록. `data` 배열의 각 열이 무엇을 의미하는지 알려줍니다. | `list` |\n",
    "| `target_names` | 레이블의 실제 이름 목록. `target` 배열의 숫자가 각각 무엇을 의미하는지 알려줍니다. | `ndarray` |\n",
    "| `DESCR` | 데이터셋에 대한 전체 설명서. 데이터의 출처, 특성 정보, 통계치 등을 포함합니다. | `str` |\n",
    "| `filename` | 데이터 파일이 저장된 실제 경로를 나타냅니다. | `str` |"
   ]
  },
  {
   "cell_type": "markdown",
   "id": "c9e0f06d",
   "metadata": {},
   "source": [
    "<hr style=\"border: none; border-top: 1px solid #ccc;\">"
   ]
  },
  {
   "cell_type": "markdown",
   "id": "7d046cab",
   "metadata": {},
   "source": [
    "<h3>2️⃣ <span style=\"background-color: rgba(255, 220, 82, 0.2);\">실제 데이터 사용하기 (외부 데이터)</span></h3>\n",
    "\n",
    "- 실제 프로젝트에서는 대부분 CSV, Excel, 데이터베이스 등 외부에 저장된 데이터를 사용합니다.<br>이때는 Pandas 라이브러리를 활용하여 데이터를 불러오고, 머신러닝 모델이 학습할 수 있는 형태로 가공하는 것이 일반적입니다.\n",
    "\n",
    "#### 📍 주요 데이터 로딩 함수 (Pandas)\n",
    "\n",
    "| 함수명 | 설명 |\n",
    "| :--- | :--- |\n",
    "| `pandas.read_csv()` | CSV (쉼표로 구분된 텍스트) 파일을 불러옵니다. (가장 기본) |\n",
    "| `pandas.read_excel()` | 엑셀 (`.xlsx`, `.xls`) 파일을 불러옵니다. |\n",
    "| `pandas.read_sql()` | 데이터베이스에 SQL 쿼리를 보내고 그 결과를 불러옵니다. |\n",
    "| `pandas.read_json()` | JSON 형식의 파일을 불러옵니다. (웹 데이터에서 자주 사용) |\n",
    "| `pandas.read_clipboard()` | 클립보드에 복사된 표 형태의 데이터를 바로 불러옵니다. (간단한 테스트에 유용) |"
   ]
  },
  {
   "cell_type": "markdown",
   "id": "27df1ea7",
   "metadata": {},
   "source": [
    "<hr>"
   ]
  },
  {
   "cell_type": "markdown",
   "id": "6b602e3d",
   "metadata": {},
   "source": [
    "<h2>💫 ML Pipeline 1-2. <span style=\"background-color: rgba(255, 220, 82, 0.5);\">데이터 분할</span></h2>\n",
    "\n",
    "  - **데이터 분할(Data Splitting)** : 전처리가 완료된 전체 데이터를 모델 학습에 사용할 **학습용 데이터**와 모델 성능 평가에 사용할 **테스트용 데이터**로 나누는 과정입니다.\n",
    "\n",
    "  - 모델을 학습시킨 데이터로 성능을 평가하면, 모델이 단순히 정답을 암기하여 비정상적으로 높은 점수를 낼 수 있습니다. 이는 과적합(Overfitting) 문제를 야기하여 모델의 일반화 성능을 떨어뜨립니다.\n",
    "\n",
    "  - 따라서 데이터를 분할하여 모델이 처음 보는 데이터(테스트 데이터)로 성능을 평가해야, 모델의 진짜 실력을 객관적으로 측정할 수 있습니다.\n",
    "\n",
    "    > **학습용 데이터 (Training Set)** : 모델을 학습시키기 위한 **'연습문제와 정답지'** 입니다. **모델은 이 데이터를 보고 패턴을 학습합니다.**\n",
    "\n",
    "    > **테스트용 데이터 (Test Set)** : 학습이 끝난 모델의 성능을 평가하기 위한 **'실전 모의고사'** 입니다. **모델은 이 데이터를 본 적이 없어야 합니다.**\n",
    "\n",
    "<h4>📍 사이킷런 데이터 분할 함수</h4>\n",
    "\n",
    "| 함수명 | 설명 |\n",
    "| :--- | :--- |\n",
    "| `train_test_split` | 전체 데이터를 **학습용**과 **테스트용** 데이터셋으로 손쉽게 분리합니다. `test_size` 파라미터로 테스트 데이터의 비율을, `random_state`로 재현 가능한 무작위 분할을 지정할 수 있습니다. |"
   ]
  },
  {
   "cell_type": "markdown",
   "id": "937ca36c",
   "metadata": {},
   "source": [
    "<hr>"
   ]
  },
  {
   "cell_type": "markdown",
   "id": "1ae66e19",
   "metadata": {},
   "source": [
    "<h2>💫 ML Pipeline 1-3. <span style=\"background-color: rgba(255, 220, 82, 0.5);\">데이터 전처리</span></h2>\n",
    "\n",
    "- 불러온 데이터를 모델이 학습하기 좋은 형태로 깨끗하게 다듬는 과정입니다.  \n",
    "\n",
    "- 원본 데이터는 모델이 바로 학습할 수 없는 **결측값(NaN)**, **문자열 데이터**, **서로 다른 단위(scale)** 등의 문제를 가지고 있어 반드시 정제가 필요합니다.\n",
    "\n",
    "<h4>⚙️ 사이킷런의 공통 규칙 : fit과 transform</h4>\n",
    "\n",
    "  - 사이킷런의 모든 전처리 기능은 'fit'과 'transform'이라는 두 가지 핵심 단계로 이루어집니다. 이 원리만 이해하면 대부분의 전처리 기능을 쉽게 사용할 수 있습니다.\n",
    "\n",
    "    > **fit()** : 데이터 변환에 필요한 규칙(예 : 데이터의 평균, 최대/최소값 등)을 **학습**하는 과정입니다.\n",
    "\n",
    "    > **transform()** : `fit()`으로 학습된 규칙을 사용해 실제로 데이터를 **변환**하는 과정입니다.\n",
    "\n",
    "  - **⚠️ 중요 원칙** : 모델의 성능을 공정하게 평가하기 위해, **학습 데이터**로 학습한 변환 규칙을 **테스트 데이터**에 그대로 적용해야 합니다.\n",
    "\n",
    "    > 따라서 **학습 데이터**에는 **`fit_transform()`** 을, **테스트 데이터**에는 **`transform()`** 만을 적용하여 데이터 유출(Data Leakage)을 방지해야 합니다.\n",
    "\n",
    "### 📍 사이킷런 전처리 유형별  fit / transform 사용 예시\n",
    "\n",
    "| 전처리 종류 | 대상 데이터 | 사용 코드 예시 | 설명 |\n",
    "| :--- | :--- | :--- | :--- |\n",
    "| **스케일링** | **학습 데이터**<br>(X_train) | `X_train_scaled = scaler.fit_transform(X_train)` | `X_train`의 평균/표준편차를 학습하고(fit) 바로 스케일링합니다(transform). |\n",
    "| | **테스트 데이터**<br>(X_test) | `X_test_scaled = scaler.transform(X_test)` | 학습 데이터로 만든 규칙을 그대로 가져와 스케일링만 수행합니다. |\n",
    "| **결측치 처리** | **학습 데이터**<br>(X_train) | `X_train_imputed = imputer.fit_transform(X_train)` | `X_train`의 대체값(평균 등)을 학습하고(fit) 바로 결측치를 채웁니다(transform). |\n",
    "| | **테스트 데이터**<br>(X_test) | `X_test_imputed = imputer.transform(X_test)` | 학습 데이터로 만든 규칙을 그대로 가져와 결측치를 채우기만 합니다. |\n",
    "| **인코딩** | **학습 데이터**<br>(X_train) | `X_train_encoded = encoder.fit_transform(X_train)` | `X_train`의 고유 카테고리를 학습하고(fit) 바로 0/1 벡터로 변환합니다(transform). |\n",
    "| | **테스트 데이터**<br>(X_test) | `X_test_encoded = encoder.transform(X_test)` | 학습 데이터로 만든 규칙을 그대로 가져와 0/1 벡터로 변환만 합니다. |"
   ]
  },
  {
   "cell_type": "markdown",
   "id": "d12d9773",
   "metadata": {},
   "source": [
    "<hr style=\"border: none; border-top: 1px solid #ccc;\">\n",
    "\n",
    "<h3>🧹 <span style=\"background-color: rgba(255, 220, 82, 0.2);\">이상치 처리 Handling Outliers</span></h3>\n",
    "\n",
    "- **이상치(Outlier)** : 다른 데이터와 비교했을 때, 비정상적으로 크거나 작은 값.\n",
    "\n",
    "- 이상치는 데이터의 **통계적 특성을 왜곡**하거나, **머신러닝 모델 성능을 저하시킬 수 있기 때문에** 모델링 전에 반드시 처리해야 합니다\n",
    "\n",
    "- 처리 방법은 크게 **삭제**와 **대체**로 나뉩니다. 사이킷런은 전용 기능을 제공하지 않으므로, 주로 **통계적 기법 + 머신러닝 기법**을 활용합니다.\n",
    "  > **삭제** : 이상치 행을 제거 (데이터 충분 + 이상치 비율 낮을 때)\n",
    "\n",
    "  > **대체** : 이상치를 경계값으로 변경 (**윈저화 Winsorization**)\n",
    "\n",
    "### 📍 이상치 탐지 - 통계적 방법\n",
    "| 알고리즘 | 설명 | 활용 방법 |\n",
    "| :--- | :--- | :--- |\n",
    "| **IQR (사분위 범위) 방식** | 데이터의 중간값을 기준으로 상위 25%와 하위 25% 지점의 범위를 이용해 이상치 경계를 정합니다. 이 경계 밖의 데이터는 이상치로 판단됩니다. | 경계 밖 데이터를 제거하거나, 경계값으로 바꿉니다. Pandas나 NumPy를 사용해 직접 계산하고 처리합니다. |\n",
    "| **Z-score 방식** | 데이터가 평균에서 얼마나 떨어져 있는지를 표준편차를 기준으로 측정합니다. 특정 기준치(예: Z-score 3)를 넘는 데이터는 이상치로 간주합니다. | 데이터가 **정규 분포**를 따를 때 사용하기 적합합니다. SciPy 라이브러리의 함수를 사용해 Z-score를 쉽게 계산할 수 있습니다. |\n",
    "\n",
    "\n",
    "### 📍 이상치 탐지 - 머신러닝 기반 방법\n",
    "| 알고리즘                         | 작동 원리                     | 장점                    | 단점              |\n",
    "| :--------------------------- | :------------------------ | :-------------------- | :-------------- |\n",
    "| **IsolationForest**          | 무작위 분할 시 이상치는 적은 분할로 고립됨  | 빠르고 대용량에 적합           | 분포 복잡할 경우 성능 저하 |\n",
    "| **LocalOutlierFactor (LOF)** | 밀도 기반, 주변보다 밀도 낮으면 이상치    | 군집화 구조 데이터에 강함        | 대용량 데이터에선 느림    |\n",
    "| **OneClassSVM**              | 정상 데이터 경계를 학습 → 경계 밖은 이상치 | 새로운 유형(novelty) 탐지 유용 | 파라미터 튜닝 어려움, 느림 |"
   ]
  },
  {
   "cell_type": "markdown",
   "id": "00d9625c",
   "metadata": {},
   "source": [
    "<hr style=\"border: none; border-top: 1px solid #ccc;\">\n",
    "\n",
    "<h3>🧹 <span style=\"background-color: rgba(255, 220, 82, 0.2);\">결측치 처리 Handling Missing Values</span></h3>\n",
    "\n",
    "- **결측치(Missing Value)** : 데이터셋에 비어있는 값 (주로 NaN이나 Null로 표시) \n",
    "\n",
    "- 대부분의 머신러닝 모델은 데이터에 결측치가 있으면 학습을 진행할 수 없어 오류가 발생하기 때문에, 모델링 전에 반드시 이 값들을 처리해야 합니다.\n",
    "\n",
    "- 결측치를 처리하는 방법은 크게 **삭제**와 **대체** 두 가지로 나뉩니다. 사이킷런은 주로 대체 방법을 지원합니다.\n",
    "\n",
    "    > **삭제** : 결측치가 포함된 행이나 열 전체를 제거하는 방법입니다. 간단하지만 데이터 손실이 크다는 단점이 있습니다. (주로 Pandas의 .dropna() 사용)\n",
    "\n",
    "    > **대체** : 결측치를 다른 특정 값으로 채워 넣는 방법입니다. 데이터 손실을 막을 수 있어 일반적으로 더 선호됩니다.\n",
    "\n",
    "#### 📍 사이킷런 결측치 처리 함수\n",
    "\n",
    "사이킷런에서는 `SimpleImputer`를 사용하여 결측치를 손쉽게 대체할 수 있습니다. `strategy` 파라미터를 통해 어떤 값으로 채울지 결정합니다.\n",
    "\n",
    "| 클래스명 | 주요 전략 (strategy) | 설명 |\n",
    "| :--- | :--- | :--- |\n",
    "| `SimpleImputer` | `mean` | 평균값 : 결측치가 있는 열(feature)의 평균으로 대체합니다. (숫자 데이터 전용) |\n",
    "| | `median` | 중앙값 : 중앙값으로 대체합니다. 이상치(outlier)가 많은 데이터에 사용하면 좋습니다. (숫- 자 데이터 전용) |\n",
    "| | `most_frequent` | 최빈값 : 가장 자주 나타나는 최빈값으로 대체합니다. 문자열 같은 범주형 데이터에 주로 사용합니다. |\n",
    "| | `constant` | 상수 : 사용자가 직접 지정하는 특정 상수(고정된 값)로 대체합니다. (예: `fill_value=0`) |"
   ]
  },
  {
   "cell_type": "markdown",
   "id": "29c2e53d",
   "metadata": {},
   "source": [
    "<hr style=\"border: none; border-top: 1px solid #ccc;\">\n",
    "\n",
    "### 🏷️ <span style=\"background-color: rgba(255, 220, 82, 0.2);\">데이터 인코딩 Data Encoding</span>\n",
    "\n",
    "  - **데이터 인코딩(Data Encoding)** : 문자열 데이터를 머신러닝 모델이 이해할 수 있는 숫자형으로 변환하는 과정입니다.\n",
    "\n",
    "  - 대부분의 머신러닝 모델은 수학적 계산을 기반으로 하므로, '남성'/'여성'이나 '서울'/'부산'과 같은 문자열 값을 직접 처리할 수 없습니다.\n",
    "\n",
    "  - 인코딩은 크게 **레이블 인코딩**과 **원-핫 인코딩** 두 가지 방식으로 나뉩니다.\n",
    "\n",
    "    > **레이블 인코딩** : 각 문자열을 고유한 정수(0, 1, 2...)로 변환하는 방법입니다. 간단하지만, 모델이 숫자 크기(2 > 1)를 순서나 중요도로 오해할 수 있는 단점이 있습니다.\n",
    "\n",
    "    > **원-핫 인코딩** : 각 문자열 항목을 새로운 열(column)으로 만들고, 해당하는 행에만 1을 표시하는 방법입니다. 모델의 오해를 막을 수 있어 일반적으로 더 선호됩니다.\n",
    "\n",
    "#### 📍 사이킷런 데이터 인코딩 함수\n",
    "\n",
    "사이킷런에서는 `LabelEncoder`와 `OneHotEncoder`를 사용하여 데이터 인코딩을 수행할 수 있습니다.\n",
    "\n",
    "| 클래스명 | 설명 |\n",
    "| :--- | :--- |\n",
    "| `LabelEncoder` | 레이블 인코딩 : 문자열 카테고리를 0부터 시작하는 고유한 정수로 변환합니다. 주로 타겟 변수(y)에 사용합니다. |\n",
    "| `OneHotEncoder` | 원-핫 인코딩 : 각 카테고리를 새로운 이진(0/1) 특성으로 분리하여 변환합니다. 주로 특성 변수(X)에 사용합니다. |"
   ]
  },
  {
   "cell_type": "markdown",
   "id": "50c61c51",
   "metadata": {},
   "source": [
    "<hr style=\"border: none; border-top: 1px solid #ccc;\">\n",
    "\n",
    "### 📏 <span style=\"background-color: rgba(255, 220, 82, 0.2);\">데이터 스케일링 Data Scaling</span>\n",
    "\n",
    "  - **데이터 스케일링(Data Scaling)** : 서로 다른 값의 범위(scale)를 갖는 특성들의 단위를 통일시키는 과정입니다.\n",
    "\n",
    "  - 예를 들어 '나이'(1~100)와 '연봉'(1,000만~1억) 특성이 함께 있다면, 연봉 값의 크기가 훨씬 크기 때문에 모델이 연봉을 더 중요한 특성으로 오해할 수 있습니다.\n",
    "\n",
    "  - 스케일링은 크게 **표준화**와 **정규화** 두 가지 방식으로 나뉩니다.\n",
    "    > **표준화 (Standardization)** : 특성 값들을 **평균이 0이고 표준편차가 1**인 분포로 변환하는 방법입니다. 이상치에 덜 민감하여 일반적으로 가장 널리 사용됩니다.\n",
    "\n",
    "    > **정규화 (Normalization)** : 특성 값들을 **0과 1 사이의 범위**로 변환하는 방법입니다. 모든 값을 동일한 스케일로 맞추고 싶을 때 유용합니다.\n",
    "\n",
    "#### 📍 사이킷런 데이터 스케일링 클래스\n",
    "\n",
    "| 클래스명 | 설명 |\n",
    "| :--- | :--- |\n",
    "| `StandardScaler` | **표준화** : 각 특성의 평균을 0, 표준편차를 1로 변환합니다. 일반적으로 가장 널리 사용되는 스케일링 방법입니다. |\n",
    "| `MinMaxScaler` | **정규화** : 모든 특성 값을 0과 1 사이의 범위로 변환합니다. 데이터의 분포를 유지하면서 스케일을 조정할 때 유용합니다. |"
   ]
  },
  {
   "cell_type": "markdown",
   "id": "61edce44",
   "metadata": {},
   "source": [
    "<hr>"
   ]
  },
  {
   "cell_type": "markdown",
   "id": "4eca345a",
   "metadata": {},
   "source": [
    "<h2>🧠 ML Pipeline 2. <span style=\"background-color: rgba(164, 164, 164, 0.5);\">모델 학습</span></h2>\n",
    "\n",
    "  - **모델 학습(Model Training)** : 전처리가 완료된 **학습용 데이터(Training Set)** 를 이용해, **모델(알고리즘)이 데이터 속의 패턴이나 규칙을 배우는 과정**입니다.\n",
    "\n",
    "  - 이는 마치 학생이 **잘 정리된 교과서와 문제집(학습 데이터)** 으로 공부하여 문제 해결 능력을 기르는 것과 같습니다.  \n",
    "  이 단계를 통해 모델은 문제(X)와 정답(y) 사이의 관계를 파악하게 됩니다.\n",
    "\n",
    "  - 풀려는 문제의 종류에 따라 적절한 모델을 선택해야 합니다. 예를 들어, 연속된 값을 예측할 때는 **회귀(Regression)** 모델을, 특정 카테고리를 분류할 때는 **분류(Classification)** 모델을 사용합니다.\n",
    "\n",
    "<h4>📍 사이킷런 모델 학습 함수</h4>\n",
    "\n",
    "사이킷런에서는 `fit()` 메소드를 통해 모든 모델을 동일한 방식으로 학습시킬 수 있습니다.\n",
    "\n",
    "| 메소드 | 설명 |\n",
    "| :--- | :--- |\n",
    "| `model.fit(X_train, y_train)` | `X_train`(문제)과 `y_train`(정답) 데이터를 입력받아 모델을 **학습**시킵니다. 이 과정을 통해 모델은 문제와 정답 사이의 관계를 배우게 됩니다. |"
   ]
  },
  {
   "cell_type": "markdown",
   "id": "8f5f2135",
   "metadata": {},
   "source": [
    "<hr>"
   ]
  },
  {
   "cell_type": "markdown",
   "id": "aeb5493f",
   "metadata": {},
   "source": [
    "<h2>📊 ML Pipeline 4. <span style=\"background-color: rgba(255, 220, 82, 0.5);\">모델 평가</span></h2>\n",
    "\n",
    "  - **모델 평가(Model Evaluation)** : 학습된 모델이 얼마나 뛰어난 성능을 보이는지 **객관적인 지표로 측정**하는 마지막 과정입니다.\n",
    "\n",
    "  - 이는 학생이 푼 **'실전 모의고사(테스트 데이터)'의 예측 답안(`prediction`)** 과 **실제 정답지(`y_test`)** 를 비교하여 점수를 매기는 단계와 같습니다.\n",
    "\n",
    "  - 이 평가 점수를 통해 우리는 만든 모델이 실전에 투입될 만큼 충분히 좋은지, 아니면 모델을 개선하거나 다른 모델을 시도해야 할지 판단할 수 있습니다.\n",
    "\n",
    "<h4>📍 사이킷런 모델 평가 함수</h4>\n",
    "\n",
    "사이킷런의 `sklearn.metrics` 모듈은 문제 유형(분류/회귀)에 따라 다양한 평가 지표를 제공합니다.\n",
    "\n",
    "| 평가 유형 | 주요 함수 | 설명 |\n",
    "| :--- | :--- | :--- |\n",
    "| **분류 (Classification)** | `accuracy_score` | **정확도** : 전체 데이터 중 모델이 정답을 맞힌 비율을 나타냅니다. (가장 직관적인 지표) |\n",
    "| | `precision_score` | **정밀도** : 모델이 'True'라고 예측한 것 중, 실제로 'True'인 것의 비율입니다. (스팸 메일 예측에 중요) |\n",
    "| | `recall_score` | **재현율** : 실제 'True'인 것 중, 모델이 'True'라고 예측한 것의 비율입니다. (암 진단 예측에 중요) |\n",
    "| | `f1_score` | 정밀도와 재현율의 조화 평균으로, 두 지표가 모두 중요할 때 사용합니다. |\n",
    "| **회귀 (Regression)** | `mean_squared_error` | **평균 제곱 오차** : 실제 정답과 예측값의 차이를 제곱하여 평균 낸 값입니다. (작을수록 좋음) |\n",
    "| | `r2_score` | **결정 계수** : 모델이 데이터를 얼마나 잘 설명하는지를 나타내는 지표입니다. (1에 가까울수록 좋음) |"
   ]
  }
 ],
 "metadata": {
  "language_info": {
   "name": "python"
  }
 },
 "nbformat": 4,
 "nbformat_minor": 5
}
