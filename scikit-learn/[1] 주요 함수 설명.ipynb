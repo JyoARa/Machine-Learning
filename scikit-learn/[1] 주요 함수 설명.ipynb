{
 "cells": [
  {
   "cell_type": "markdown",
   "id": "2a8de1e4",
   "metadata": {},
   "source": [
    "# [1] 주요 함수 소개 Data Preparation\n",
    "\n",
    "먼저 지도학습 파이프라인을 따라가면서 주요 함수를 소개해드리겠습니다.\n",
    "\n",
    "---"
   ]
  },
  {
   "cell_type": "markdown",
   "id": "469e9888",
   "metadata": {},
   "source": [
    "<h2>💫 1-1. <span style=\"background-color: rgba(255, 220, 82, 0.5);\">데이터 준비</span></h2>\n",
    "\n",
    "머신러닝 모델의 학습 재료가 되는 데이터를 가져오는 과정입니다.  \n",
    "사이킷런은 학습용으로 다양한 예제 데이터를 제공하며, 실제 프로젝트에서는 외부 파일을 불러와 사용합니다."
   ]
  },
  {
   "cell_type": "markdown",
   "id": "4714d602",
   "metadata": {},
   "source": [
    "### 1️⃣ 사이킷런 내장 예제 데이터 사용하기\n",
    "사이킷런은 머신러닝을 쉽게 연습할 수 있도록 패키지 안에 다양한 종류의 데이터를 포함하고 있습니다. 이 데이터들은 별도의 외부 파일 없이 간단한 함수 호출만으로 불러올 수 있습니다."
   ]
  },
  {
   "cell_type": "markdown",
   "id": "6597625c",
   "metadata": {},
   "source": [
    "#### 📍주요 API"
   ]
  },
  {
   "cell_type": "markdown",
   "id": "e1170f10",
   "metadata": {},
   "source": [
    "#### ✨ load_* : 사이킷런 패키지에 포함된 작은 데이터셋\n",
    "\n",
    "| 함수명 | 설명 |\n",
    "| :--- | :--- |\n",
    "| `datasets.load_iris()` | 붓꽃의 피처를 가진 데이터로, 품종을 분류하는 데 사용됩니다. (분류용) |\n",
    "| `datasets.load_breast_cancer()` | 위스콘신 유방암 피처와 악성/음성 레이블 데이터입니다. (분류용) |\n",
    "| `datasets.load_digits()` | 0에서 9까지의 숫자 이미지 픽셀 데이터입니다. (분류용) |\n",
    "| `datasets.load_wine()` | 와인의 화학 성분 분석 데이터로, 와인 종류를 분류합니다. (분류용) |\n",
    "| `datasets.load_boston()` | 미국 보스턴의 집 피처와 가격에 대한 데이터입니다. (회귀용) |\n",
    "| `datasets.load_diabetes()` | 당뇨병 데이터입니다. (회귀용) |\n",
    "| `datasets.load_linnerud()` | 운동선수의 생리학적 데이터와 운동 능력 데이터입니다. (다중 출력 회귀용) |"
   ]
  },
  {
   "cell_type": "markdown",
   "id": "9bd2cc63",
   "metadata": {},
   "source": [
    "#### ✨ fetch_* : 인터넷에서 내려받아 사용하는 큰 데이터셋\n",
    "\n",
    "| 함수명 | 설명 |\n",
    "| :--- | :--- |\n",
    "| `datasets.fetch_california_housing()` | 캘리포니아 주택 가격 데이터로, `load_boston`을 대체하는 표준 회귀 데이터셋입니다. |\n",
    "| `datasets.fetch_covtype()` | 회귀분석용 토지조사 자료입니다. |\n",
    "| `datasets.fetch_20newsgroups()` | 뉴스그룹 텍스트 자료입니다. |\n",
    "| `datasets.fetch_rcv1()` | 로이터 뉴스 말뭉치입니다. |\n",
    "| `datasets.fetch_olivetti_faces()` | 얼굴 이미지 자료입니다. |\n",
    "| `datasets.fetch_lfw_people()` | '야생의 얼굴' 데이터셋으로, `olivetti_faces`보다 더 어려운 얼굴 인식 문제입니다. |\n",
    "| `datasets.fetch_kddcup99()` | KDD Cup '99 데이터로, 네트워크 침입 탐지(분류)에 사용됩니다. |\n",
    "| `datasets.fetch_openml()` | OpenML.org 리포지토리에서 수많은 데이터셋을 이름으로 직접 다운로드합니다. (범용) |"
   ]
  },
  {
   "cell_type": "markdown",
   "id": "498fec61",
   "metadata": {},
   "source": [
    "#### ✨ make_* : 특정 목적의 가상 데이터를 직접 생성\n",
    "\n",
    "| 함수명 | 설명 |\n",
    "| :--- | :--- |\n",
    "| `datasets.make_classifications()` | 분류(Classification)를 위한 가상 데이터 세트를 무작위로 생성합니다. |\n",
    "| `datasets.make_regression()` | 회귀(Regression)를 위한 가상 데이터 세트를 무작위로 생성합니다. |\n",
    "| `datasets.make_blobs()` | 군집화(Clustering)를 위한 가상 데이터 세트(덩어리)를 생성합니다. |\n",
    "| `datasets.make_moons()` | 초승달 모양으로 분포된 데이터를 생성하여, 비선형 분류/군집 테스트에 사용됩니다. |\n",
    "| `datasets.make_circles()` | 동심원 모양으로 분포된 데이터를 생성하며, 비선형 문제 테스트에 유용합니다. |\n",
    "| `datasets.make_swiss_roll()` | 3차원 스위스 롤 형태의 데이터를 생성하여, 매니폴드 학습 테스트에 사용됩니다. |"
   ]
  },
  {
   "cell_type": "markdown",
   "id": "71f1cff4",
   "metadata": {},
   "source": []
  },
  {
   "cell_type": "markdown",
   "id": "7d046cab",
   "metadata": {},
   "source": [
    "### 2️⃣ 사이킷런 내장 예제 데이터 사용하기\n",
    "사이킷런은 머신러닝을 쉽게 연습할 수 있도록 패키지 안에 다양한 종류의 데이터를 포함하고 있습니다. 이 데이터들은 별도의 외부 파일 없이 간단한 함수 호출만으로 불러올 수 있습니다."
   ]
  }
 ],
 "metadata": {
  "language_info": {
   "name": "python"
  }
 },
 "nbformat": 4,
 "nbformat_minor": 5
}
